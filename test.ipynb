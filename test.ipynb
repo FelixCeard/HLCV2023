{
 "cells": [
  {
   "cell_type": "code",
   "execution_count": 11,
   "metadata": {
    "collapsed": true,
    "ExecuteTime": {
     "end_time": "2023-07-13T11:09:38.297625600Z",
     "start_time": "2023-07-13T11:09:33.911193500Z"
    }
   },
   "outputs": [],
   "source": [
    "import glob\n",
    "import os.path\n",
    "\n",
    "from skimage import io\n",
    "from torch.utils.data import Dataset"
   ]
  },
  {
   "cell_type": "code",
   "execution_count": 12,
   "outputs": [],
   "source": [
    "def get_uids(path:str):\n",
    "    # b3cc8f7f3cd0495ea3a8ddfae3902921_c0115832864e4938b898d5be34089cf5.jpeg\n",
    "    return path.split('/')[-1].split('\\\\')[-1].split('_')[0]\n",
    "\n",
    "def get_name(path:str):\n",
    "    return path.split('/')[-1].split('\\\\')[-1].split('_')[1].split('.')[0]\n",
    "\n",
    "\n",
    "class CustomDataset(Dataset):\n",
    "    def __init__(self, root:str):\n",
    "        self.root = root # path to thumbnail folder\n",
    "\n",
    "\n",
    "        self.paths = glob.glob(os.path.join(root, '*.jpeg'))\n",
    "        self.uids = [get_uids(path) for path in self.paths]\n",
    "        self.name = [get_uids(path) for path in self.paths]\n",
    "\n",
    "        self.length = len(self.paths)\n",
    "\n",
    "    def __len__(self):\n",
    "        return self.length\n",
    "\n",
    "    def __getitem__(self, index):\n",
    "        path = self.paths[index]\n",
    "        uid = self.uids[index]\n",
    "        name = self.name[index]\n",
    "\n",
    "        # load image\n",
    "        image = io.imread(path)\n",
    "\n",
    "        return image, uid, name\n"
   ],
   "metadata": {
    "collapsed": false,
    "ExecuteTime": {
     "end_time": "2023-07-13T11:09:41.563220100Z",
     "start_time": "2023-07-13T11:09:41.543221100Z"
    }
   }
  },
  {
   "cell_type": "code",
   "execution_count": 13,
   "outputs": [],
   "source": [
    "dataset = CustomDataset('data/thumbnails')"
   ],
   "metadata": {
    "collapsed": false,
    "ExecuteTime": {
     "end_time": "2023-07-13T11:09:44.841469900Z",
     "start_time": "2023-07-13T11:09:42.530550600Z"
    }
   }
  },
  {
   "cell_type": "code",
   "execution_count": 14,
   "outputs": [
    {
     "data": {
      "text/plain": "(array([[[180, 180, 180],\n         [180, 180, 180],\n         [179, 179, 179],\n         ...,\n         [182, 182, 182],\n         [182, 182, 182],\n         [182, 182, 182]],\n \n        [[180, 180, 180],\n         [180, 180, 180],\n         [179, 179, 179],\n         ...,\n         [182, 182, 182],\n         [182, 182, 182],\n         [182, 182, 182]],\n \n        [[180, 180, 180],\n         [180, 180, 180],\n         [180, 180, 180],\n         ...,\n         [183, 183, 183],\n         [182, 182, 182],\n         [182, 182, 182]],\n \n        ...,\n \n        [[158, 158, 158],\n         [158, 158, 158],\n         [158, 158, 158],\n         ...,\n         [168, 168, 168],\n         [168, 168, 168],\n         [168, 168, 168]],\n \n        [[156, 156, 156],\n         [157, 157, 157],\n         [158, 158, 158],\n         ...,\n         [168, 168, 168],\n         [168, 168, 168],\n         [168, 168, 168]],\n \n        [[155, 155, 155],\n         [157, 157, 157],\n         [158, 158, 158],\n         ...,\n         [168, 168, 168],\n         [168, 168, 168],\n         [168, 168, 168]]], dtype=uint8),\n '000074a334c541878360457c672b6c2e',\n '000074a334c541878360457c672b6c2e')"
     },
     "execution_count": 14,
     "metadata": {},
     "output_type": "execute_result"
    }
   ],
   "source": [
    "dataset[0]"
   ],
   "metadata": {
    "collapsed": false,
    "ExecuteTime": {
     "end_time": "2023-07-13T11:09:45.690287100Z",
     "start_time": "2023-07-13T11:09:45.623253200Z"
    }
   }
  }
 ],
 "metadata": {
  "kernelspec": {
   "display_name": "Python 3",
   "language": "python",
   "name": "python3"
  },
  "language_info": {
   "codemirror_mode": {
    "name": "ipython",
    "version": 2
   },
   "file_extension": ".py",
   "mimetype": "text/x-python",
   "name": "python",
   "nbconvert_exporter": "python",
   "pygments_lexer": "ipython2",
   "version": "2.7.6"
  }
 },
 "nbformat": 4,
 "nbformat_minor": 0
}
