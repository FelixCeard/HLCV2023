{
 "cells": [
  {
   "cell_type": "code",
   "execution_count": null,
   "metadata": {
    "collapsed": true,
    "pycharm": {
     "is_executing": true
    }
   },
   "outputs": [],
   "source": [
    "import enchant\n",
    "from tqdm import tqdm\n",
    "import re\n",
    "import pandas as pd\n",
    "import seaborn as sns"
   ]
  },
  {
   "cell_type": "code",
   "execution_count": null,
   "outputs": [],
   "source": [
    "def parse_list(line:str):\n",
    "    line = line.replace('[', '').replace(']', '')\n",
    "    words = line.split(',')\n",
    "    words = [w.replace(\"'\", '').strip() for w in words if w != \"\"]\n",
    "    return words"
   ],
   "metadata": {
    "collapsed": false
   }
  },
  {
   "cell_type": "code",
   "execution_count": null,
   "outputs": [],
   "source": [
    "\n",
    "\n",
    "\n",
    "if __name__ == '__main__':\n",
    "    # load the original attributes to get the \"class\"\n",
    "    with open('./../data/attributes_cleaned.txt', 'r') as file:\n",
    "        content_og = file.readlines()\n",
    "\n",
    "    id_to_class = dict()\n",
    "    fails = 0\n",
    "    for line in content_og:\n",
    "        try:\n",
    "            line = line.split(';')\n",
    "            image_id = line[0].strip()\n",
    "            class_id = line[1].strip()\n",
    "            id_to_class[image_id] = class_id\n",
    "        except Exception as e:\n",
    "            fails += 1\n",
    "    print('Failed to get the class to', fails, 'images')\n",
    "\n",
    "    # load the extracted lens attributes\n",
    "    with open('./../data/lens_attributes.txt', 'r') as file:\n",
    "        content = file.readlines()\n",
    "\n",
    "    # load english dictionary\n",
    "    d = enchant.Dict(\"en_US\")\n",
    "\n",
    "    dataset = []\n",
    "\n",
    "    output_file = open('./lens_attributes_dictionary.txt', 'w')\n",
    "    fails = 0\n",
    "    for line in tqdm(content):\n",
    "        exploded = line.split(';')\n",
    "\n",
    "        image_id = exploded[0]\n",
    "        captions = exploded[2]\n",
    "        attributes = exploded[3]\n",
    "\n",
    "        # parse string list into python list\n",
    "        parsed = parse_list(attributes)\n",
    "\n",
    "\n",
    "        # words_in_dictionary = [w for w in parsed if d.check(w)]\n",
    "        num_attributes_dictionary = 0\n",
    "        num_attributes_split = 0\n",
    "\n",
    "        words_in_dictionary = []\n",
    "        for w in parsed:\n",
    "            if d.check(w):\n",
    "                words_in_dictionary.append(w)\n",
    "                num_attributes_dictionary += 1\n",
    "            # else:\n",
    "            #     last_word = w.split(' ')[-1]\n",
    "            #     if d.check(last_word):\n",
    "            #         words_in_dictionary.append(f'{last_word}')\n",
    "            #         num_attributes_split += 1\n",
    "        # remove duplicates\n",
    "        words_in_dictionary = list(set(words_in_dictionary))\n",
    "        try:\n",
    "            output_file.write(\n",
    "                f'{image_id}; {id_to_class.get(image_id)}; {words_in_dictionary} \\n'\n",
    "            )\n",
    "            dataset.append({\n",
    "                'num_dictionary': num_attributes_dictionary,\n",
    "                'num_split': num_attributes_split,\n",
    "                'num_total': num_attributes_dictionary + num_attributes_split\n",
    "            })\n",
    "\n",
    "        except Exception as e:\n",
    "            fails += 1\n",
    "    print('Failed to trim the attributes of', fails, 'images')"
   ],
   "metadata": {
    "collapsed": false
   }
  }
 ],
 "metadata": {
  "kernelspec": {
   "display_name": "Python 3",
   "language": "python",
   "name": "python3"
  },
  "language_info": {
   "codemirror_mode": {
    "name": "ipython",
    "version": 2
   },
   "file_extension": ".py",
   "mimetype": "text/x-python",
   "name": "python",
   "nbconvert_exporter": "python",
   "pygments_lexer": "ipython2",
   "version": "2.7.6"
  }
 },
 "nbformat": 4,
 "nbformat_minor": 0
}
